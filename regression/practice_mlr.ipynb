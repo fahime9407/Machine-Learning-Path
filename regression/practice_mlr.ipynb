{
 "cells": [
  {
   "cell_type": "markdown",
   "metadata": {},
   "source": [
    "# Multiple Linear Regression\n",
    "##### We aim to predict students’ final scores using their class attendance, hours studied per week and sleep hours.\n"
   ]
  },
  {
   "cell_type": "code",
   "execution_count": 19,
   "metadata": {},
   "outputs": [],
   "source": [
    "import numpy as np\n",
    "import pandas as pd\n",
    "import matplotlib.pyplot as plt\n",
    "from sklearn.linear_model import LinearRegression\n",
    "from sklearn.metrics import r2_score\n",
    "import kagglehub"
   ]
  },
  {
   "cell_type": "markdown",
   "metadata": {},
   "source": [
    "### define dataset"
   ]
  },
  {
   "cell_type": "code",
   "execution_count": 13,
   "metadata": {},
   "outputs": [
    {
     "name": "stdout",
     "output_type": "stream",
     "text": [
      "Downloading from https://www.kaggle.com/api/v1/datasets/download/lainguyn123/student-performance-factors?dataset_version_number=8...\n"
     ]
    },
    {
     "name": "stderr",
     "output_type": "stream",
     "text": [
      "100%|██████████| 93.9k/93.9k [00:00<00:00, 416kB/s]"
     ]
    },
    {
     "name": "stdout",
     "output_type": "stream",
     "text": [
      "Extracting files...\n"
     ]
    },
    {
     "name": "stderr",
     "output_type": "stream",
     "text": [
      "\n"
     ]
    },
    {
     "data": {
      "text/html": [
       "<div>\n",
       "<style scoped>\n",
       "    .dataframe tbody tr th:only-of-type {\n",
       "        vertical-align: middle;\n",
       "    }\n",
       "\n",
       "    .dataframe tbody tr th {\n",
       "        vertical-align: top;\n",
       "    }\n",
       "\n",
       "    .dataframe thead th {\n",
       "        text-align: right;\n",
       "    }\n",
       "</style>\n",
       "<table border=\"1\" class=\"dataframe\">\n",
       "  <thead>\n",
       "    <tr style=\"text-align: right;\">\n",
       "      <th></th>\n",
       "      <th>Hours_Studied</th>\n",
       "      <th>Attendance</th>\n",
       "      <th>Parental_Involvement</th>\n",
       "      <th>Access_to_Resources</th>\n",
       "      <th>Extracurricular_Activities</th>\n",
       "      <th>Sleep_Hours</th>\n",
       "      <th>Previous_Scores</th>\n",
       "      <th>Motivation_Level</th>\n",
       "      <th>Internet_Access</th>\n",
       "      <th>Tutoring_Sessions</th>\n",
       "      <th>Family_Income</th>\n",
       "      <th>Teacher_Quality</th>\n",
       "      <th>School_Type</th>\n",
       "      <th>Peer_Influence</th>\n",
       "      <th>Physical_Activity</th>\n",
       "      <th>Learning_Disabilities</th>\n",
       "      <th>Parental_Education_Level</th>\n",
       "      <th>Distance_from_Home</th>\n",
       "      <th>Gender</th>\n",
       "      <th>Exam_Score</th>\n",
       "    </tr>\n",
       "  </thead>\n",
       "  <tbody>\n",
       "    <tr>\n",
       "      <th>0</th>\n",
       "      <td>23</td>\n",
       "      <td>84</td>\n",
       "      <td>Low</td>\n",
       "      <td>High</td>\n",
       "      <td>No</td>\n",
       "      <td>7</td>\n",
       "      <td>73</td>\n",
       "      <td>Low</td>\n",
       "      <td>Yes</td>\n",
       "      <td>0</td>\n",
       "      <td>Low</td>\n",
       "      <td>Medium</td>\n",
       "      <td>Public</td>\n",
       "      <td>Positive</td>\n",
       "      <td>3</td>\n",
       "      <td>No</td>\n",
       "      <td>High School</td>\n",
       "      <td>Near</td>\n",
       "      <td>Male</td>\n",
       "      <td>67</td>\n",
       "    </tr>\n",
       "    <tr>\n",
       "      <th>1</th>\n",
       "      <td>19</td>\n",
       "      <td>64</td>\n",
       "      <td>Low</td>\n",
       "      <td>Medium</td>\n",
       "      <td>No</td>\n",
       "      <td>8</td>\n",
       "      <td>59</td>\n",
       "      <td>Low</td>\n",
       "      <td>Yes</td>\n",
       "      <td>2</td>\n",
       "      <td>Medium</td>\n",
       "      <td>Medium</td>\n",
       "      <td>Public</td>\n",
       "      <td>Negative</td>\n",
       "      <td>4</td>\n",
       "      <td>No</td>\n",
       "      <td>College</td>\n",
       "      <td>Moderate</td>\n",
       "      <td>Female</td>\n",
       "      <td>61</td>\n",
       "    </tr>\n",
       "    <tr>\n",
       "      <th>2</th>\n",
       "      <td>24</td>\n",
       "      <td>98</td>\n",
       "      <td>Medium</td>\n",
       "      <td>Medium</td>\n",
       "      <td>Yes</td>\n",
       "      <td>7</td>\n",
       "      <td>91</td>\n",
       "      <td>Medium</td>\n",
       "      <td>Yes</td>\n",
       "      <td>2</td>\n",
       "      <td>Medium</td>\n",
       "      <td>Medium</td>\n",
       "      <td>Public</td>\n",
       "      <td>Neutral</td>\n",
       "      <td>4</td>\n",
       "      <td>No</td>\n",
       "      <td>Postgraduate</td>\n",
       "      <td>Near</td>\n",
       "      <td>Male</td>\n",
       "      <td>74</td>\n",
       "    </tr>\n",
       "    <tr>\n",
       "      <th>3</th>\n",
       "      <td>29</td>\n",
       "      <td>89</td>\n",
       "      <td>Low</td>\n",
       "      <td>Medium</td>\n",
       "      <td>Yes</td>\n",
       "      <td>8</td>\n",
       "      <td>98</td>\n",
       "      <td>Medium</td>\n",
       "      <td>Yes</td>\n",
       "      <td>1</td>\n",
       "      <td>Medium</td>\n",
       "      <td>Medium</td>\n",
       "      <td>Public</td>\n",
       "      <td>Negative</td>\n",
       "      <td>4</td>\n",
       "      <td>No</td>\n",
       "      <td>High School</td>\n",
       "      <td>Moderate</td>\n",
       "      <td>Male</td>\n",
       "      <td>71</td>\n",
       "    </tr>\n",
       "    <tr>\n",
       "      <th>4</th>\n",
       "      <td>19</td>\n",
       "      <td>92</td>\n",
       "      <td>Medium</td>\n",
       "      <td>Medium</td>\n",
       "      <td>Yes</td>\n",
       "      <td>6</td>\n",
       "      <td>65</td>\n",
       "      <td>Medium</td>\n",
       "      <td>Yes</td>\n",
       "      <td>3</td>\n",
       "      <td>Medium</td>\n",
       "      <td>High</td>\n",
       "      <td>Public</td>\n",
       "      <td>Neutral</td>\n",
       "      <td>4</td>\n",
       "      <td>No</td>\n",
       "      <td>College</td>\n",
       "      <td>Near</td>\n",
       "      <td>Female</td>\n",
       "      <td>70</td>\n",
       "    </tr>\n",
       "  </tbody>\n",
       "</table>\n",
       "</div>"
      ],
      "text/plain": [
       "   Hours_Studied  Attendance  ...  Gender Exam_Score\n",
       "0             23          84  ...    Male         67\n",
       "1             19          64  ...  Female         61\n",
       "2             24          98  ...    Male         74\n",
       "3             29          89  ...    Male         71\n",
       "4             19          92  ...  Female         70\n",
       "\n",
       "[5 rows x 20 columns]"
      ]
     },
     "execution_count": 13,
     "metadata": {},
     "output_type": "execute_result"
    }
   ],
   "source": [
    "path = kagglehub.dataset_download(\"lainguyn123/student-performance-factors\")\n",
    "\n",
    "df = pd.read_csv(path + r\"/StudentPerformanceFactors.csv\")\n",
    "df.head()"
   ]
  },
  {
   "cell_type": "markdown",
   "metadata": {},
   "source": [
    "### preprocessing"
   ]
  },
  {
   "cell_type": "code",
   "execution_count": 16,
   "metadata": {},
   "outputs": [
    {
     "data": {
      "text/plain": [
       "(6607, 20)"
      ]
     },
     "execution_count": 16,
     "metadata": {},
     "output_type": "execute_result"
    }
   ],
   "source": [
    "df.dropna()\n",
    "df.shape"
   ]
  },
  {
   "cell_type": "code",
   "execution_count": 17,
   "metadata": {},
   "outputs": [
    {
     "data": {
      "text/html": [
       "<div>\n",
       "<style scoped>\n",
       "    .dataframe tbody tr th:only-of-type {\n",
       "        vertical-align: middle;\n",
       "    }\n",
       "\n",
       "    .dataframe tbody tr th {\n",
       "        vertical-align: top;\n",
       "    }\n",
       "\n",
       "    .dataframe thead th {\n",
       "        text-align: right;\n",
       "    }\n",
       "</style>\n",
       "<table border=\"1\" class=\"dataframe\">\n",
       "  <thead>\n",
       "    <tr style=\"text-align: right;\">\n",
       "      <th></th>\n",
       "      <th>Hours_Studied</th>\n",
       "      <th>Attendance</th>\n",
       "      <th>Sleep_Hours</th>\n",
       "      <th>Previous_Scores</th>\n",
       "      <th>Tutoring_Sessions</th>\n",
       "      <th>Physical_Activity</th>\n",
       "      <th>Exam_Score</th>\n",
       "    </tr>\n",
       "  </thead>\n",
       "  <tbody>\n",
       "    <tr>\n",
       "      <th>count</th>\n",
       "      <td>6607.000000</td>\n",
       "      <td>6607.000000</td>\n",
       "      <td>6607.00000</td>\n",
       "      <td>6607.000000</td>\n",
       "      <td>6607.000000</td>\n",
       "      <td>6607.000000</td>\n",
       "      <td>6607.000000</td>\n",
       "    </tr>\n",
       "    <tr>\n",
       "      <th>mean</th>\n",
       "      <td>19.975329</td>\n",
       "      <td>79.977448</td>\n",
       "      <td>7.02906</td>\n",
       "      <td>75.070531</td>\n",
       "      <td>1.493719</td>\n",
       "      <td>2.967610</td>\n",
       "      <td>67.235659</td>\n",
       "    </tr>\n",
       "    <tr>\n",
       "      <th>std</th>\n",
       "      <td>5.990594</td>\n",
       "      <td>11.547475</td>\n",
       "      <td>1.46812</td>\n",
       "      <td>14.399784</td>\n",
       "      <td>1.230570</td>\n",
       "      <td>1.031231</td>\n",
       "      <td>3.890456</td>\n",
       "    </tr>\n",
       "    <tr>\n",
       "      <th>min</th>\n",
       "      <td>1.000000</td>\n",
       "      <td>60.000000</td>\n",
       "      <td>4.00000</td>\n",
       "      <td>50.000000</td>\n",
       "      <td>0.000000</td>\n",
       "      <td>0.000000</td>\n",
       "      <td>55.000000</td>\n",
       "    </tr>\n",
       "    <tr>\n",
       "      <th>25%</th>\n",
       "      <td>16.000000</td>\n",
       "      <td>70.000000</td>\n",
       "      <td>6.00000</td>\n",
       "      <td>63.000000</td>\n",
       "      <td>1.000000</td>\n",
       "      <td>2.000000</td>\n",
       "      <td>65.000000</td>\n",
       "    </tr>\n",
       "    <tr>\n",
       "      <th>50%</th>\n",
       "      <td>20.000000</td>\n",
       "      <td>80.000000</td>\n",
       "      <td>7.00000</td>\n",
       "      <td>75.000000</td>\n",
       "      <td>1.000000</td>\n",
       "      <td>3.000000</td>\n",
       "      <td>67.000000</td>\n",
       "    </tr>\n",
       "    <tr>\n",
       "      <th>75%</th>\n",
       "      <td>24.000000</td>\n",
       "      <td>90.000000</td>\n",
       "      <td>8.00000</td>\n",
       "      <td>88.000000</td>\n",
       "      <td>2.000000</td>\n",
       "      <td>4.000000</td>\n",
       "      <td>69.000000</td>\n",
       "    </tr>\n",
       "    <tr>\n",
       "      <th>max</th>\n",
       "      <td>44.000000</td>\n",
       "      <td>100.000000</td>\n",
       "      <td>10.00000</td>\n",
       "      <td>100.000000</td>\n",
       "      <td>8.000000</td>\n",
       "      <td>6.000000</td>\n",
       "      <td>101.000000</td>\n",
       "    </tr>\n",
       "  </tbody>\n",
       "</table>\n",
       "</div>"
      ],
      "text/plain": [
       "       Hours_Studied   Attendance  ...  Physical_Activity   Exam_Score\n",
       "count    6607.000000  6607.000000  ...        6607.000000  6607.000000\n",
       "mean       19.975329    79.977448  ...           2.967610    67.235659\n",
       "std         5.990594    11.547475  ...           1.031231     3.890456\n",
       "min         1.000000    60.000000  ...           0.000000    55.000000\n",
       "25%        16.000000    70.000000  ...           2.000000    65.000000\n",
       "50%        20.000000    80.000000  ...           3.000000    67.000000\n",
       "75%        24.000000    90.000000  ...           4.000000    69.000000\n",
       "max        44.000000   100.000000  ...           6.000000   101.000000\n",
       "\n",
       "[8 rows x 7 columns]"
      ]
     },
     "execution_count": 17,
     "metadata": {},
     "output_type": "execute_result"
    }
   ],
   "source": [
    "df.describe()"
   ]
  },
  {
   "cell_type": "code",
   "execution_count": 26,
   "metadata": {},
   "outputs": [
    {
     "data": {
      "text/plain": [
       "(6607, 4)"
      ]
     },
     "execution_count": 26,
     "metadata": {},
     "output_type": "execute_result"
    }
   ],
   "source": [
    "cdf = df[[\"Hours_Studied\", \"Attendance\", \"Sleep_Hours\", \"Exam_Score\"]]\n",
    "\n",
    "cdf.shape"
   ]
  },
  {
   "cell_type": "code",
   "execution_count": 27,
   "metadata": {},
   "outputs": [
    {
     "data": {
      "image/png": "[encoded data removed]",
      "text/plain": [
       "<Figure size 640x480 with 4 Axes>"
      ]
     },
     "metadata": {},
     "output_type": "display_data"
    }
   ],
   "source": [
    "vis = cdf[[\"Hours_Studied\", \"Attendance\", \"Sleep_Hours\", \"Exam_Score\"]]\n",
    "vis.hist()\n",
    "plt.show()"
   ]
  },
  {
   "cell_type": "code",
   "execution_count": 28,
   "metadata": {},
   "outputs": [
    {
     "data": {
      "image/png": "[encoded data removed]",
      "text/plain": [
       "<Figure size 640x480 with 1 Axes>"
      ]
     },
     "metadata": {},
     "output_type": "display_data"
    }
   ],
   "source": [
    "plt.scatter(cdf[\"Attendance\"], cdf[\"Exam_Score\"], color=\"green\")\n",
    "plt.scatter(cdf[\"Hours_Studied\"], cdf[\"Exam_Score\"], color=\"orange\")\n",
    "plt.scatter(cdf[\"Sleep_Hours\"], cdf[\"Exam_Score\"], color=\"blue\")\n",
    "plt.ylabel(\"Exam_Score\")\n",
    "plt.xlabel(\"Attendance, Hours_Studied, Sleep_Hours\")\n",
    "plt.show()"
   ]
  },
  {
   "cell_type": "code",
   "execution_count": 29,
   "metadata": {},
   "outputs": [
    {
     "name": "stderr",
     "output_type": "stream",
     "text": [
      "C:\\Users\\User\\AppData\\Local\\Temp\\ipykernel_3384\\607434090.py:1: SettingWithCopyWarning: \n",
      "A value is trying to be set on a copy of a slice from a DataFrame\n",
      "\n",
      "See the caveats in the documentation: https://pandas.pydata.org/pandas-docs/stable/user_guide/indexing.html#returning-a-view-versus-a-copy\n",
      "  cdf.drop(\"Sleep_Hours\", axis=1, inplace=True)\n"
     ]
    },
    {
     "data": {
      "text/plain": [
       "(6607, 3)"
      ]
     },
     "execution_count": 29,
     "metadata": {},
     "output_type": "execute_result"
    }
   ],
   "source": [
    "cdf.drop(\"Sleep_Hours\", axis=1, inplace=True)\n",
    "\n",
    "cdf.shape"
   ]
  },
  {
   "cell_type": "code",
   "execution_count": 30,
   "metadata": {},
   "outputs": [
    {
     "data": {
      "text/plain": [
       "((5328, 3), (1279, 3))"
      ]
     },
     "execution_count": 30,
     "metadata": {},
     "output_type": "execute_result"
    }
   ],
   "source": [
    "msk = np.random.rand(len(df)) < 0.8\n",
    "\n",
    "train, test = cdf[msk], cdf[~msk]\n",
    "train.shape, test.shape"
   ]
  },
  {
   "cell_type": "markdown",
   "metadata": {},
   "source": [
    "### model definition"
   ]
  },
  {
   "cell_type": "code",
   "execution_count": 33,
   "metadata": {},
   "outputs": [
    {
     "name": "stdout",
     "output_type": "stream",
     "text": [
      "coefficient : 0.29330488571395147 and 0.20047094861164216 | intercept : 45.32289947905447\n"
     ]
    }
   ],
   "source": [
    "mymodel = LinearRegression()\n",
    "\n",
    "x_train = np.asanyarray(train[[\"Hours_Studied\", \"Attendance\"]])\n",
    "y_train = np.asanyarray(train[[\"Exam_Score\"]])\n",
    "\n",
    "mymodel.fit(x_train, y_train)\n",
    "\n",
    "print(f\"coefficient : {mymodel.coef_[0][0]} and {mymodel.coef_[0][1]} | intercept : {mymodel.intercept_[0]}\")"
   ]
  },
  {
   "cell_type": "markdown",
   "metadata": {},
   "source": [
    "### model evaluation"
   ]
  },
  {
   "cell_type": "code",
   "execution_count": 34,
   "metadata": {},
   "outputs": [],
   "source": [
    "x_test = np.asanyarray(test[[\"Hours_Studied\", \"Attendance\"]])\n",
    "y_test = np.asanyarray(test[[\"Exam_Score\"]])\n",
    "\n",
    "y_pred_test = mymodel.predict(x_test)"
   ]
  },
  {
   "cell_type": "code",
   "execution_count": 35,
   "metadata": {},
   "outputs": [
    {
     "name": "stdout",
     "output_type": "stream",
     "text": [
      "Mean Squared Error : 6.376287718592697|Mean Absolute Error : 1.5249020945044387|Root Mean Squared Error : 2.5251312279944376|Root Mean Absolute Error : 1.2348692621101387|R2 Score : 0.536976356778796\n"
     ]
    }
   ],
   "source": [
    "mse = np.mean((y_test - y_pred_test) ** 2)\n",
    "mae = np.mean(np.absolute(y_test - y_pred_test))\n",
    "rmse = np.mean((y_test - y_pred_test) ** 2) ** 0.5\n",
    "rmae = np.mean(np.absolute(y_test - y_pred_test)) ** 0.5\n",
    "r2 = r2_score(y_test, y_pred_test)\n",
    "\n",
    "print(f\"mean squared error : {mse}|mean absolute error : {mae}|root mean squared error : {rmse}|root mean absolute error : {rmae}|r2 score : {r2}\".title())"
   ]
  },
  {
   "cell_type": "code",
   "execution_count": null,
   "metadata": {},
   "outputs": [],
   "source": []
  }
 ],
 "metadata": {
  "kernelspec": {
   "display_name": "myvenv",
   "language": "python",
   "name": "python3"
  },
  "language_info": {
   "codemirror_mode": {
    "name": "ipython",
    "version": 3
   },
   "file_extension": ".py",
   "mimetype": "text/x-python",
   "name": "python",
   "nbconvert_exporter": "python",
   "pygments_lexer": "ipython3",
   "version": "3.13.2"
  }
 },
 "nbformat": 4,
 "nbformat_minor": 2
}
