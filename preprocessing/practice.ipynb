{
 "cells": [
  {
   "cell_type": "markdown",
   "metadata": {},
   "source": [
    "#### Determine what percentage of the restaurant’s customers are satisfied based on their feedback comments.\n"
   ]
  },
  {
   "cell_type": "code",
   "execution_count": 14,
   "metadata": {},
   "outputs": [],
   "source": [
    "import numpy as np\n",
    "import matplotlib.pyplot as plt\n",
    "import pandas as pd"
   ]
  },
  {
   "cell_type": "code",
   "execution_count": 15,
   "metadata": {},
   "outputs": [
    {
     "data": {
      "text/html": [
       "<div>\n",
       "<style scoped>\n",
       "    .dataframe tbody tr th:only-of-type {\n",
       "        vertical-align: middle;\n",
       "    }\n",
       "\n",
       "    .dataframe tbody tr th {\n",
       "        vertical-align: top;\n",
       "    }\n",
       "\n",
       "    .dataframe thead th {\n",
       "        text-align: right;\n",
       "    }\n",
       "</style>\n",
       "<table border=\"1\" class=\"dataframe\">\n",
       "  <thead>\n",
       "    <tr style=\"text-align: right;\">\n",
       "      <th></th>\n",
       "      <th>Gender</th>\n",
       "      <th>Age</th>\n",
       "      <th>FirstName</th>\n",
       "      <th>LastName</th>\n",
       "      <th>Satisfaction</th>\n",
       "      <th>OrderedFood</th>\n",
       "      <th>FoodCost</th>\n",
       "      <th>MonthlyIncome</th>\n",
       "    </tr>\n",
       "  </thead>\n",
       "  <tbody>\n",
       "    <tr>\n",
       "      <th>0</th>\n",
       "      <td>Female</td>\n",
       "      <td>43</td>\n",
       "      <td>Fatemeh</td>\n",
       "      <td>Gholami</td>\n",
       "      <td>Unsatisfied</td>\n",
       "      <td>Burger</td>\n",
       "      <td>3000000</td>\n",
       "      <td>143000000</td>\n",
       "    </tr>\n",
       "    <tr>\n",
       "      <th>1</th>\n",
       "      <td>Female</td>\n",
       "      <td>23</td>\n",
       "      <td>Ali</td>\n",
       "      <td>Najafi</td>\n",
       "      <td>Satisfied</td>\n",
       "      <td>Sandwich</td>\n",
       "      <td>4100000</td>\n",
       "      <td>12000000</td>\n",
       "    </tr>\n",
       "    <tr>\n",
       "      <th>2</th>\n",
       "      <td>Male</td>\n",
       "      <td>54</td>\n",
       "      <td>Mohammad</td>\n",
       "      <td>Moradi</td>\n",
       "      <td>Satisfied</td>\n",
       "      <td>Sushi</td>\n",
       "      <td>500000</td>\n",
       "      <td>183000000</td>\n",
       "    </tr>\n",
       "    <tr>\n",
       "      <th>3</th>\n",
       "      <td>Male</td>\n",
       "      <td>51</td>\n",
       "      <td>Sara</td>\n",
       "      <td>Gholami</td>\n",
       "      <td>Satisfied</td>\n",
       "      <td>Sandwich</td>\n",
       "      <td>2600000</td>\n",
       "      <td>128000000</td>\n",
       "    </tr>\n",
       "    <tr>\n",
       "      <th>4</th>\n",
       "      <td>Male</td>\n",
       "      <td>40</td>\n",
       "      <td>Narges</td>\n",
       "      <td>Rahimi</td>\n",
       "      <td>Satisfied</td>\n",
       "      <td>Pizza</td>\n",
       "      <td>1100000</td>\n",
       "      <td>127000000</td>\n",
       "    </tr>\n",
       "  </tbody>\n",
       "</table>\n",
       "</div>"
      ],
      "text/plain": [
       "   Gender  Age FirstName LastName Satisfaction OrderedFood  FoodCost  \\\n",
       "0  Female   43   Fatemeh  Gholami  Unsatisfied      Burger   3000000   \n",
       "1  Female   23       Ali   Najafi    Satisfied    Sandwich   4100000   \n",
       "2    Male   54  Mohammad   Moradi    Satisfied       Sushi    500000   \n",
       "3    Male   51      Sara  Gholami    Satisfied    Sandwich   2600000   \n",
       "4    Male   40    Narges   Rahimi    Satisfied       Pizza   1100000   \n",
       "\n",
       "   MonthlyIncome  \n",
       "0      143000000  \n",
       "1       12000000  \n",
       "2      183000000  \n",
       "3      128000000  \n",
       "4      127000000  "
      ]
     },
     "execution_count": 15,
     "metadata": {},
     "output_type": "execute_result"
    }
   ],
   "source": [
    "df = pd.read_csv('restaurant_customers.csv')\n",
    "df.head()"
   ]
  },
  {
   "cell_type": "code",
   "execution_count": 16,
   "metadata": {},
   "outputs": [
    {
     "data": {
      "text/html": [
       "<div>\n",
       "<style scoped>\n",
       "    .dataframe tbody tr th:only-of-type {\n",
       "        vertical-align: middle;\n",
       "    }\n",
       "\n",
       "    .dataframe tbody tr th {\n",
       "        vertical-align: top;\n",
       "    }\n",
       "\n",
       "    .dataframe thead th {\n",
       "        text-align: right;\n",
       "    }\n",
       "</style>\n",
       "<table border=\"1\" class=\"dataframe\">\n",
       "  <thead>\n",
       "    <tr style=\"text-align: right;\">\n",
       "      <th></th>\n",
       "      <th>Age</th>\n",
       "      <th>FoodCost</th>\n",
       "      <th>MonthlyIncome</th>\n",
       "    </tr>\n",
       "  </thead>\n",
       "  <tbody>\n",
       "    <tr>\n",
       "      <th>count</th>\n",
       "      <td>200.000000</td>\n",
       "      <td>2.000000e+02</td>\n",
       "      <td>2.000000e+02</td>\n",
       "    </tr>\n",
       "    <tr>\n",
       "      <th>mean</th>\n",
       "      <td>44.055000</td>\n",
       "      <td>2.613500e+06</td>\n",
       "      <td>1.032700e+08</td>\n",
       "    </tr>\n",
       "    <tr>\n",
       "      <th>std</th>\n",
       "      <td>15.247439</td>\n",
       "      <td>1.341928e+06</td>\n",
       "      <td>5.486353e+07</td>\n",
       "    </tr>\n",
       "    <tr>\n",
       "      <th>min</th>\n",
       "      <td>18.000000</td>\n",
       "      <td>5.000000e+05</td>\n",
       "      <td>1.000000e+07</td>\n",
       "    </tr>\n",
       "    <tr>\n",
       "      <th>25%</th>\n",
       "      <td>31.000000</td>\n",
       "      <td>1.400000e+06</td>\n",
       "      <td>5.875000e+07</td>\n",
       "    </tr>\n",
       "    <tr>\n",
       "      <th>50%</th>\n",
       "      <td>43.000000</td>\n",
       "      <td>2.600000e+06</td>\n",
       "      <td>9.900000e+07</td>\n",
       "    </tr>\n",
       "    <tr>\n",
       "      <th>75%</th>\n",
       "      <td>57.250000</td>\n",
       "      <td>3.625000e+06</td>\n",
       "      <td>1.500000e+08</td>\n",
       "    </tr>\n",
       "    <tr>\n",
       "      <th>max</th>\n",
       "      <td>70.000000</td>\n",
       "      <td>5.000000e+06</td>\n",
       "      <td>2.000000e+08</td>\n",
       "    </tr>\n",
       "  </tbody>\n",
       "</table>\n",
       "</div>"
      ],
      "text/plain": [
       "              Age      FoodCost  MonthlyIncome\n",
       "count  200.000000  2.000000e+02   2.000000e+02\n",
       "mean    44.055000  2.613500e+06   1.032700e+08\n",
       "std     15.247439  1.341928e+06   5.486353e+07\n",
       "min     18.000000  5.000000e+05   1.000000e+07\n",
       "25%     31.000000  1.400000e+06   5.875000e+07\n",
       "50%     43.000000  2.600000e+06   9.900000e+07\n",
       "75%     57.250000  3.625000e+06   1.500000e+08\n",
       "max     70.000000  5.000000e+06   2.000000e+08"
      ]
     },
     "execution_count": 16,
     "metadata": {},
     "output_type": "execute_result"
    }
   ],
   "source": [
    "df.describe()"
   ]
  },
  {
   "cell_type": "code",
   "execution_count": 17,
   "metadata": {},
   "outputs": [
    {
     "data": {
      "text/plain": [
       "(200, 8)"
      ]
     },
     "execution_count": 17,
     "metadata": {},
     "output_type": "execute_result"
    }
   ],
   "source": [
    "df.shape"
   ]
  },
  {
   "cell_type": "code",
   "execution_count": 18,
   "metadata": {},
   "outputs": [
    {
     "data": {
      "text/plain": [
       "Satisfaction\n",
       "Satisfied      154\n",
       "Unsatisfied     46\n",
       "Name: count, dtype: int64"
      ]
     },
     "execution_count": 18,
     "metadata": {},
     "output_type": "execute_result"
    }
   ],
   "source": [
    "df[\"Satisfaction\"].value_counts()"
   ]
  },
  {
   "cell_type": "code",
   "execution_count": null,
   "metadata": {},
   "outputs": [],
   "source": []
  }
 ],
 "metadata": {
  "kernelspec": {
   "display_name": "myvenv",
   "language": "python",
   "name": "python3"
  },
  "language_info": {
   "codemirror_mode": {
    "name": "ipython",
    "version": 3
   },
   "file_extension": ".py",
   "mimetype": "text/x-python",
   "name": "python",
   "nbconvert_exporter": "python",
   "pygments_lexer": "ipython3",
   "version": "3.13.2"
  }
 },
 "nbformat": 4,
 "nbformat_minor": 2
}
