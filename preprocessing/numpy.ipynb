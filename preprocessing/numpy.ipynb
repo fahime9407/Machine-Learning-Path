{
 "cells": [
  {
   "cell_type": "code",
   "execution_count": 2,
   "metadata": {},
   "outputs": [],
   "source": [
    "import numpy as np"
   ]
  },
  {
   "cell_type": "code",
   "execution_count": 4,
   "metadata": {},
   "outputs": [
    {
     "data": {
      "text/plain": [
       "(2, 5)"
      ]
     },
     "execution_count": 4,
     "metadata": {},
     "output_type": "execute_result"
    }
   ],
   "source": [
    "a = np.array([np.arange(5, 10), np.arange(12, 17)])\n",
    "a.shape"
   ]
  },
  {
   "cell_type": "code",
   "execution_count": 11,
   "metadata": {},
   "outputs": [
    {
     "data": {
      "text/plain": [
       "array([[23.2],\n",
       "       [25. ],\n",
       "       [22. ]])"
      ]
     },
     "execution_count": 11,
     "metadata": {},
     "output_type": "execute_result"
    }
   ],
   "source": [
    "b = np.array([23.2, 25, 22])\n",
    "b.reshape(3, 1)"
   ]
  },
  {
   "cell_type": "code",
   "execution_count": 8,
   "metadata": {},
   "outputs": [
    {
     "name": "stdout",
     "output_type": "stream",
     "text": [
      "dimentions of a : 2 | dimentions of b : 1\n"
     ]
    }
   ],
   "source": [
    "print(f\"dimentions of a : {a.ndim} | dimentions of b : {b.ndim}\")"
   ]
  },
  {
   "cell_type": "code",
   "execution_count": 9,
   "metadata": {},
   "outputs": [
    {
     "name": "stdout",
     "output_type": "stream",
     "text": [
      "size of a : 10 | size of b : 3\n"
     ]
    }
   ],
   "source": [
    "print(f\"size of a : {a.size} | size of b : {b.size}\")"
   ]
  },
  {
   "cell_type": "code",
   "execution_count": 12,
   "metadata": {},
   "outputs": [
    {
     "name": "stdout",
     "output_type": "stream",
     "text": [
      "type of a : int64 | type of b : float64\n"
     ]
    }
   ],
   "source": [
    "print(f\"type of a : {a.dtype} | type of b : {b.dtype}\")"
   ]
  },
  {
   "cell_type": "code",
   "execution_count": 15,
   "metadata": {},
   "outputs": [
    {
     "name": "stdout",
     "output_type": "stream",
     "text": [
      "(15,) 1 15 int64\n"
     ]
    }
   ],
   "source": [
    "c = np.arange(15)\n",
    "print(c.shape, c.ndim, c.size, c.dtype)"
   ]
  },
  {
   "cell_type": "code",
   "execution_count": 16,
   "metadata": {},
   "outputs": [
    {
     "name": "stdout",
     "output_type": "stream",
     "text": [
      "(3, 5) 2 15 int64\n"
     ]
    }
   ],
   "source": [
    "c = c.reshape(3, 5)\n",
    "print(c.shape, c.ndim, c.size, c.dtype)"
   ]
  },
  {
   "cell_type": "code",
   "execution_count": 17,
   "metadata": {},
   "outputs": [
    {
     "data": {
      "text/plain": [
       "array([[0., 0., 0., 0., 0., 0.],\n",
       "       [0., 0., 0., 0., 0., 0.],\n",
       "       [0., 0., 0., 0., 0., 0.],\n",
       "       [0., 0., 0., 0., 0., 0.],\n",
       "       [0., 0., 0., 0., 0., 0.]])"
      ]
     },
     "execution_count": 17,
     "metadata": {},
     "output_type": "execute_result"
    }
   ],
   "source": [
    "d = np.zeros((5, 6))\n",
    "d"
   ]
  },
  {
   "cell_type": "code",
   "execution_count": 19,
   "metadata": {},
   "outputs": [
    {
     "data": {
      "text/plain": [
       "array([[1., 1., 1.],\n",
       "       [1., 1., 1.],\n",
       "       [1., 1., 1.],\n",
       "       [1., 1., 1.],\n",
       "       [1., 1., 1.]])"
      ]
     },
     "execution_count": 19,
     "metadata": {},
     "output_type": "execute_result"
    }
   ],
   "source": [
    "e = np.ones((5, 3))\n",
    "e"
   ]
  },
  {
   "cell_type": "code",
   "execution_count": 20,
   "metadata": {},
   "outputs": [
    {
     "data": {
      "text/plain": [
       "((3, 4), (3, 4))"
      ]
     },
     "execution_count": 20,
     "metadata": {},
     "output_type": "execute_result"
    }
   ],
   "source": [
    "a = np.array([np.arange(8, 16, +2), np.arange(22, 30, +2), np.arange(50, 58, +2)])\n",
    "b = np.array([np.arange(25, 33, +2), np.arange(35, 55, +5), np.arange(4)])\n",
    "\n",
    "a.shape, b.shape"
   ]
  },
  {
   "cell_type": "code",
   "execution_count": 23,
   "metadata": {},
   "outputs": [
    {
     "name": "stdout",
     "output_type": "stream",
     "text": [
      "[[ 8 10 12 14]\n",
      " [22 24 26 28]\n",
      " [50 52 54 56]]\n",
      "------------------------\n",
      "[[25 27 29 31]\n",
      " [35 40 45 50]\n",
      " [ 0  1  2  3]]\n"
     ]
    }
   ],
   "source": [
    "print(a)\n",
    "print(\"------------------------\")\n",
    "print(b)"
   ]
  },
  {
   "cell_type": "code",
   "execution_count": null,
   "metadata": {},
   "outputs": [
    {
     "name": "stdout",
     "output_type": "stream",
     "text": [
      "[[ True  True  True  True]\n",
      " [ True  True  True  True]\n",
      " [False False False False]]\n"
     ]
    }
   ],
   "source": [
    "print(a <= b)"
   ]
  },
  {
   "cell_type": "code",
   "execution_count": 31,
   "metadata": {},
   "outputs": [
    {
     "name": "stdout",
     "output_type": "stream",
     "text": [
      "[[        152587890625      205891132094649   353814783205469041\n",
      "    627428198704704065]\n",
      " [  665298106895417433                    0 -5460838222306938295\n",
      "   4414812766615896064]\n",
      " [                   0                    1    18014398509481984\n",
      "    639558602475808609]]\n"
     ]
    }
   ],
   "source": [
    "print(b ** a)"
   ]
  },
  {
   "cell_type": "code",
   "execution_count": 34,
   "metadata": {},
   "outputs": [
    {
     "name": "stdout",
     "output_type": "stream",
     "text": [
      "[[2 1 0 2]\n",
      " [1 0 2 1]\n",
      " [2 1 0 2]]\n"
     ]
    }
   ],
   "source": [
    "c = np.array([3])\n",
    "\n",
    "print(a % c)"
   ]
  },
  {
   "cell_type": "code",
   "execution_count": 41,
   "metadata": {},
   "outputs": [
    {
     "name": "stdout",
     "output_type": "stream",
     "text": [
      "True True False True\n"
     ]
    }
   ],
   "source": [
    "print(a.all(), a.any(), b.all(), b.any())"
   ]
  },
  {
   "cell_type": "code",
   "execution_count": 45,
   "metadata": {},
   "outputs": [
    {
     "name": "stdout",
     "output_type": "stream",
     "text": [
      "[[-6.79971146  0.64836083 -0.63585993  7.24460662]\n",
      " [ 0.00885166 -2.1348967   1.17875355 -0.2814296 ]\n",
      " [-0.27190061 -6.05327238  0.6738001  -0.61127369]]\n"
     ]
    }
   ],
   "source": [
    "print(np.tan(a))"
   ]
  },
  {
   "cell_type": "code",
   "execution_count": 46,
   "metadata": {},
   "outputs": [
    {
     "data": {
      "text/plain": [
       "array([[ 8, 10, 12, 14],\n",
       "       [22, 24, 26, 28],\n",
       "       [50, 52, 54, 56]])"
      ]
     },
     "execution_count": 46,
     "metadata": {},
     "output_type": "execute_result"
    }
   ],
   "source": [
    "a"
   ]
  },
  {
   "cell_type": "code",
   "execution_count": 57,
   "metadata": {},
   "outputs": [
    {
     "data": {
      "text/plain": [
       "array([ 8, 12, 24, 28, 52, 56])"
      ]
     },
     "execution_count": 57,
     "metadata": {},
     "output_type": "execute_result"
    }
   ],
   "source": [
    "a[a%4==0]"
   ]
  },
  {
   "cell_type": "code",
   "execution_count": 52,
   "metadata": {},
   "outputs": [
    {
     "data": {
      "text/plain": [
       "array([54, 56])"
      ]
     },
     "execution_count": 52,
     "metadata": {},
     "output_type": "execute_result"
    }
   ],
   "source": [
    "a[2][2:]"
   ]
  },
  {
   "cell_type": "code",
   "execution_count": 54,
   "metadata": {},
   "outputs": [
    {
     "data": {
      "text/plain": [
       "array([ 0,  1,  2,  3,  4,  5,  6,  7,  8,  9, 10, 11, 12, 13, 14, 15, 16,\n",
       "       17, 18, 19])"
      ]
     },
     "execution_count": 54,
     "metadata": {},
     "output_type": "execute_result"
    }
   ],
   "source": [
    "f = np.arange(20)\n",
    "f"
   ]
  },
  {
   "cell_type": "code",
   "execution_count": 55,
   "metadata": {},
   "outputs": [
    {
     "data": {
      "text/plain": [
       "array([ 3,  6,  9, 12])"
      ]
     },
     "execution_count": 55,
     "metadata": {},
     "output_type": "execute_result"
    }
   ],
   "source": [
    "f[3:15:+3]"
   ]
  },
  {
   "cell_type": "code",
   "execution_count": 56,
   "metadata": {},
   "outputs": [
    {
     "data": {
      "text/plain": [
       "array([ 0,  3,  6,  9, 12, 15, 18])"
      ]
     },
     "execution_count": 56,
     "metadata": {},
     "output_type": "execute_result"
    }
   ],
   "source": [
    "f[f%3==0]"
   ]
  },
  {
   "cell_type": "code",
   "execution_count": 59,
   "metadata": {},
   "outputs": [
    {
     "name": "stdout",
     "output_type": "stream",
     "text": [
      "356 56 8\n"
     ]
    }
   ],
   "source": [
    "print(np.sum(a), np.max(a), np.min(a))"
   ]
  },
  {
   "cell_type": "code",
   "execution_count": 66,
   "metadata": {},
   "outputs": [
    {
     "data": {
      "text/plain": [
       "array([[10, 11, 12, 13, 14],\n",
       "       [ 8,  7,  6,  5,  4],\n",
       "       [-5, -6, -7, -8, -9]])"
      ]
     },
     "execution_count": 66,
     "metadata": {},
     "output_type": "execute_result"
    }
   ],
   "source": [
    "a = np.array([np.arange(10, 15), np.arange(8, 3, -1), np.arange(-5, -10, -1)])\n",
    "a"
   ]
  },
  {
   "cell_type": "code",
   "execution_count": 65,
   "metadata": {},
   "outputs": [
    {
     "data": {
      "text/plain": [
       "array([[10, 11, 12, 13, 14],\n",
       "       [ 4,  5,  6,  7,  8],\n",
       "       [-9, -8, -7, -6, -5]])"
      ]
     },
     "execution_count": 65,
     "metadata": {},
     "output_type": "execute_result"
    }
   ],
   "source": [
    "np.sort(a)"
   ]
  },
  {
   "cell_type": "code",
   "execution_count": 3,
   "metadata": {},
   "outputs": [
    {
     "data": {
      "text/plain": [
       "array([[  19,  267],\n",
       "       [ 464, 8634]], dtype=int32)"
      ]
     },
     "execution_count": 3,
     "metadata": {},
     "output_type": "execute_result"
    }
   ],
   "source": [
    "a = np.random.randint([[10, 150], [200, 5000]], [[100, 300], [700, 15000]], size=(2, 2))\n",
    "a"
   ]
  },
  {
   "cell_type": "code",
   "execution_count": 4,
   "metadata": {},
   "outputs": [
    {
     "data": {
      "text/plain": [
       "array([[  1.26401263,   3.91245302],\n",
       "       [-11.79838234,   3.35216676]])"
      ]
     },
     "execution_count": 4,
     "metadata": {},
     "output_type": "execute_result"
    }
   ],
   "source": [
    "b = np.random.uniform([[1.2, 2.5], [-12, 3.3]], [[1.5, 5.5], [-11, 3.4]], size=(2, 2))\n",
    "b"
   ]
  },
  {
   "cell_type": "code",
   "execution_count": 8,
   "metadata": {},
   "outputs": [
    {
     "data": {
      "text/plain": [
       "array([[0.47634468, 0.33346519, 0.48399524, 0.59102539, 0.77101451,\n",
       "        0.15107503],\n",
       "       [0.34311378, 0.32265308, 0.84384097, 0.92134382, 0.75491219,\n",
       "        0.60898976],\n",
       "       [0.60701629, 0.55438348, 0.90314572, 0.23096283, 0.24834755,\n",
       "        0.41755687],\n",
       "       [0.40703365, 0.49877256, 0.75843234, 0.74202408, 0.62612486,\n",
       "        0.6880198 ],\n",
       "       [0.45092698, 0.22384293, 0.51555066, 0.84068093, 0.54689707,\n",
       "        0.27480832]])"
      ]
     },
     "execution_count": 8,
     "metadata": {},
     "output_type": "execute_result"
    }
   ],
   "source": [
    "c = np.random.rand(5, 6)\n",
    "c"
   ]
  },
  {
   "cell_type": "code",
   "execution_count": 9,
   "metadata": {},
   "outputs": [
    {
     "data": {
      "text/plain": [
       "array([[ 1.21489166,  0.69218096,  0.95531998, -1.35394018, -1.10384198,\n",
       "        -0.35900527],\n",
       "       [ 1.47911338,  0.40308996,  0.73068198, -0.07560355, -0.85124233,\n",
       "        -0.31858355],\n",
       "       [-0.07332923, -1.22207412, -0.65278618,  1.00963315,  0.0420377 ,\n",
       "        -0.10653563],\n",
       "       [ 0.17348858, -1.11292286,  0.57757973, -0.41707044,  0.92961099,\n",
       "        -0.44157694],\n",
       "       [ 0.58829654,  0.13769906, -0.01734482, -0.49061743,  0.8764138 ,\n",
       "         0.28919498]])"
      ]
     },
     "execution_count": 9,
     "metadata": {},
     "output_type": "execute_result"
    }
   ],
   "source": [
    "d = np.random.randn(5, 6)\n",
    "d"
   ]
  },
  {
   "cell_type": "code",
   "execution_count": 7,
   "metadata": {},
   "outputs": [
    {
     "data": {
      "text/plain": [
       "array([[0.72281894, 0.45731993, 0.77783402, 0.0219033 , 0.40746868],\n",
       "       [0.81174747, 0.43776739, 0.50569758, 0.26214587, 0.95404357],\n",
       "       [0.32287929, 0.82715487, 0.10920526, 0.13440634, 0.25209106]])"
      ]
     },
     "execution_count": 7,
     "metadata": {},
     "output_type": "execute_result"
    }
   ],
   "source": [
    "e = np.random.random(size=(3, 5))\n",
    "e"
   ]
  },
  {
   "cell_type": "code",
   "execution_count": 72,
   "metadata": {},
   "outputs": [
    {
     "data": {
      "text/plain": [
       "array([[2, 4, 6, 8],\n",
       "       [1, 3, 5, 7]])"
      ]
     },
     "execution_count": 72,
     "metadata": {},
     "output_type": "execute_result"
    }
   ],
   "source": [
    "a = np.array([2, 4, 6, 8])\n",
    "b = np.array([1, 3, 5, 7])\n",
    "\n",
    "c = np.vstack((a, b))\n",
    "c"
   ]
  },
  {
   "cell_type": "code",
   "execution_count": 77,
   "metadata": {},
   "outputs": [
    {
     "data": {
      "text/plain": [
       "array([[ 2,  4,  6,  8],\n",
       "       [ 1,  3,  5,  7],\n",
       "       [25,  6,  8, 22]])"
      ]
     },
     "execution_count": 77,
     "metadata": {},
     "output_type": "execute_result"
    }
   ],
   "source": [
    "d = np.vstack((c, np.array([25, 6, 8, 22])))\n",
    "d"
   ]
  },
  {
   "cell_type": "code",
   "execution_count": 80,
   "metadata": {},
   "outputs": [
    {
     "data": {
      "text/plain": [
       "array([2, 4, 6, 8, 1, 3, 5, 7])"
      ]
     },
     "execution_count": 80,
     "metadata": {},
     "output_type": "execute_result"
    }
   ],
   "source": [
    "e = np.hstack((a, b))\n",
    "e"
   ]
  },
  {
   "cell_type": "code",
   "execution_count": 81,
   "metadata": {},
   "outputs": [
    {
     "data": {
      "text/plain": [
       "array([-1.34164079, -0.4472136 ,  0.4472136 ,  1.34164079])"
      ]
     },
     "execution_count": 81,
     "metadata": {},
     "output_type": "execute_result"
    }
   ],
   "source": [
    "mean_a = np.mean(a)\n",
    "std_a = np.std(a)\n",
    "norm_a = (a - mean_a) / std_a\n",
    "\n",
    "norm_a"
   ]
  },
  {
   "cell_type": "code",
   "execution_count": 82,
   "metadata": {},
   "outputs": [
    {
     "name": "stdout",
     "output_type": "stream",
     "text": [
      "0.0 1.0\n"
     ]
    }
   ],
   "source": [
    "print(np.mean(norm_a), np.std(norm_a))"
   ]
  },
  {
   "cell_type": "code",
   "execution_count": 2,
   "metadata": {},
   "outputs": [
    {
     "data": {
      "text/plain": [
       "array([[-1.56035211, -0.0309776 , -0.62092842, -1.46458049,  1.41194612,\n",
       "        -0.47673214, -0.78046921,  1.07026774],\n",
       "       [-1.2822926 , -1.3274789 ,  0.12633764,  0.86219372,  0.69673696,\n",
       "        -0.33456518, -0.99752606,  1.59890829],\n",
       "       [ 3.31407535,  0.98777046,  0.12386626,  0.74278539, -0.39395585,\n",
       "         0.14811582, -0.41223445, -0.16071506],\n",
       "       [ 0.13953147,  0.28546937, -0.28126199,  1.71090732, -0.14976664,\n",
       "         0.69030672,  1.09520951,  1.3384087 ],\n",
       "       [-1.36898167,  0.48642763,  0.75352168,  0.36346459, -0.31471048,\n",
       "         1.37328117, -0.62441716,  0.375754  ],\n",
       "       [-0.20041632,  0.74303806,  0.85736196, -1.50618929, -1.66635217,\n",
       "        -0.2189948 , -0.35885843,  0.37852769]])"
      ]
     },
     "execution_count": 2,
     "metadata": {},
     "output_type": "execute_result"
    }
   ],
   "source": [
    "np.random.seed(50)\n",
    "a = np.random.randn(6, 8)\n",
    "a"
   ]
  }
 ],
 "metadata": {
  "kernelspec": {
   "display_name": "myvenv",
   "language": "python",
   "name": "python3"
  },
  "language_info": {
   "codemirror_mode": {
    "name": "ipython",
    "version": 3
   },
   "file_extension": ".py",
   "mimetype": "text/x-python",
   "name": "python",
   "nbconvert_exporter": "python",
   "pygments_lexer": "ipython3",
   "version": "3.13.2"
  }
 },
 "nbformat": 4,
 "nbformat_minor": 2
}
